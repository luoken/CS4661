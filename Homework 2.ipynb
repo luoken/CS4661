{
 "cells": [
  {
   "cell_type": "markdown",
   "metadata": {},
   "source": [
    "# CS4661 Intro To Data Science"
   ]
  },
  {
   "cell_type": "markdown",
   "metadata": {},
   "source": [
    "## Homework 2"
   ]
  },
  {
   "cell_type": "markdown",
   "metadata": {},
   "source": [
    "##### Danny Padilla\n",
    "##### Ken Luo"
   ]
  },
  {
   "cell_type": "markdown",
   "metadata": {},
   "source": [
    "#### a. Read the\tiris\tdataset\tfrom\tthe\tfollowing\tURL: 'https://raw.githubusercontent.com/mpourhoma/CS4661/master/iris.csv' and\tassign\tit\tto a\tPandas\tDataFrame\tas\tyou\tlearned in\ttutorial\tLab2-3.\n"
   ]
  },
  {
   "cell_type": "code",
   "execution_count": 3,
   "metadata": {},
   "outputs": [
    {
     "name": "stdout",
     "output_type": "stream",
     "text": [
      "   sepal_length  sepal_width  petal_length  petal_width species\n",
      "0           5.1          3.5           1.4          0.2  setosa\n",
      "1           4.9          3.0           1.4          0.2  setosa\n",
      "2           4.7          3.2           1.3          0.2  setosa\n",
      "3           4.6          3.1           1.5          0.2  setosa\n",
      "4           5.0          3.6           1.4          0.2  setosa\n"
     ]
    }
   ],
   "source": [
    "#import pandas\n",
    "import pandas as pd\n",
    "\n",
    "#read in csv\n",
    "df = pd.read_csv('https://raw.githubusercontent.com/mpourhoma/CS4661/master/iris.csv')\n",
    "\n"
   ]
  },
  {
   "cell_type": "markdown",
   "metadata": {},
   "source": [
    "#### b. Split the\t dataset\t into\t testing\t and\t training sets\t with\t the\t following\t parameters: test_size=0.4,\trandom_state=1"
   ]
  },
  {
   "cell_type": "code",
   "execution_count": null,
   "metadata": {
    "collapsed": true
   },
   "outputs": [],
   "source": []
  },
  {
   "cell_type": "markdown",
   "metadata": {},
   "source": [
    "#### c. Instantiate\ta KNN object with K=3, train it on the training set and test it on the testing set. Then, calculate\tthe\taccuracy of your prediction as \tyou learned\tin Lab3."
   ]
  },
  {
   "cell_type": "code",
   "execution_count": null,
   "metadata": {
    "collapsed": true
   },
   "outputs": [],
   "source": []
  },
  {
   "cell_type": "markdown",
   "metadata": {},
   "source": [
    "#### d. Repeat\tpart (c) for K=1, K=5, K=7,\tK=15, K=28,\tK=60 (you can simply write a “for loop”\ton a list with\tthese value to repeat the process for you, and save\tthe\tfinal accuracy results in a\tlist (array)!).\tDoes the accuracy always get better\tby increasing K?\t"
   ]
  },
  {
   "cell_type": "markdown",
   "metadata": {},
   "source": []
  },
  {
   "cell_type": "markdown",
   "metadata": {},
   "source": [
    "#### e. Now,\tsuppose\tthat\twe\twould\tlike\tto\tmake\tprediction\tbased\ton\tonly\tONE\tsingle\tfeature. To\tfind\tthe\tbest\tsingle\tfeature,\twe\thave\tto\ttry\tevery\tfeature\tindividually.\tIn\tother\tword, we\t have\t to\t repeat\t part (c)\t 4\t times\t (each\t time\t using\t only\t one\t of\t the\t 4\t features),\t and compute\t the\taccuracy\teach\t time.\tThen,\tcheck\t the\taccuracies.\tWhich\tindividual\t feature provide\t the\t best\t accuracy\t (the\t best\t feature)?\t Which\t one\t is\t the\t second\tbest\tfeature? (Note:\tyou\thave\tto\ttrain,\ttest,\tand\tevaluate your\tmodel\t4\ttimes,\teach\ttime\ton\ta\tdataset including\tonly\tone\tof\tthe\tfeatures.\tYou\tmay\twant\tto\twrite\ta\t“for\tloop”\tto\tgenerate\tthe\tdatasets,\t train,\t test,\tand\tcompute\t the\taccuracy\teach\t time,\tand\tsave\t the\t final\taccuracy results\tin\ta\tlist)."
   ]
  },
  {
   "cell_type": "code",
   "execution_count": null,
   "metadata": {
    "collapsed": true
   },
   "outputs": [],
   "source": []
  },
  {
   "cell_type": "markdown",
   "metadata": {},
   "source": [
    "#### f. Now,\twe\twant\tto\trepeat\tpart\t(e),\tthis\ttime\tusing\ttwo\tfeatures.\tyou\thave\tto\ttrain,\ttest,\tand\tevaluate\t your\t model\t for\t 6\t different\t cases:\t using\t (1st and\t 2nd features),\t (1st and\t 3rd features),\t(1st and\t4th\t\tfeatures),\t(2nd\t\tand\t3rd\t\tfeatures), (2nd and\t4th features), (3rd and\t4th\t\tfeatures)! \n",
    "\n",
    "#### Which “feature\tpair” provide\tthe\tbest\taccuracy?"
   ]
  },
  {
   "cell_type": "code",
   "execution_count": null,
   "metadata": {
    "collapsed": true
   },
   "outputs": [],
   "source": []
  },
  {
   "cell_type": "markdown",
   "metadata": {},
   "source": [
    "#### g. BigQuestion: Doesthe\t“best\tfeature\tpair” from\tpart\t(f) contain of both “first best\tfeature” and\t“second\tbest\tfeature” from\tpart\t(e)?\t In\tother\tword,\tcan\twe\tconclude\tthat\tthe\t“best two\tfeatures”\tfor\tclassification\tare\tthe\t“first\tbest\tindividual\tfeature”\tand\tthe\t“second\tbest individual\tfeature”\ttogether?"
   ]
  },
  {
   "cell_type": "code",
   "execution_count": null,
   "metadata": {
    "collapsed": true
   },
   "outputs": [],
   "source": []
  },
  {
   "cell_type": "markdown",
   "metadata": {},
   "source": [
    "#### h. Optional\tQuestion:\tJustify\tyour\tanswer\tto\tpart\t(g)!\t\tIf\tyes,\twhy?\t\tIf\tno,\twhy\tnot? "
   ]
  },
  {
   "cell_type": "code",
   "execution_count": null,
   "metadata": {
    "collapsed": true
   },
   "outputs": [],
   "source": []
  }
 ],
 "metadata": {
  "kernelspec": {
   "display_name": "Python 3",
   "language": "python",
   "name": "python3"
  },
  "language_info": {
   "codemirror_mode": {
    "name": "ipython",
    "version": 3
   },
   "file_extension": ".py",
   "mimetype": "text/x-python",
   "name": "python",
   "nbconvert_exporter": "python",
   "pygments_lexer": "ipython3",
   "version": "3.5.2"
  }
 },
 "nbformat": 4,
 "nbformat_minor": 2
}
